{
 "cells": [
  {
   "cell_type": "code",
   "execution_count": 1,
   "metadata": {},
   "outputs": [],
   "source": [
    "import numpy as np\n",
    "import seaborn as sns\n",
    "import pandas as pd\n",
    "import matplotlib.pyplot as plt"
   ]
  },
  {
   "cell_type": "code",
   "execution_count": 2,
   "metadata": {},
   "outputs": [],
   "source": [
    "dataset = pd.read_csv('financial_data.csv')"
   ]
  },
  {
   "cell_type": "markdown",
   "metadata": {},
   "source": [
    "<h1>Exploratory data analysis<h1>"
   ]
  },
  {
   "cell_type": "code",
   "execution_count": 3,
   "metadata": {},
   "outputs": [
    {
     "data": {
      "text/html": [
       "<div>\n",
       "<style scoped>\n",
       "    .dataframe tbody tr th:only-of-type {\n",
       "        vertical-align: middle;\n",
       "    }\n",
       "\n",
       "    .dataframe tbody tr th {\n",
       "        vertical-align: top;\n",
       "    }\n",
       "\n",
       "    .dataframe thead th {\n",
       "        text-align: right;\n",
       "    }\n",
       "</style>\n",
       "<table border=\"1\" class=\"dataframe\">\n",
       "  <thead>\n",
       "    <tr style=\"text-align: right;\">\n",
       "      <th></th>\n",
       "      <th>entry_id</th>\n",
       "      <th>age</th>\n",
       "      <th>pay_schedule</th>\n",
       "      <th>home_owner</th>\n",
       "      <th>income</th>\n",
       "      <th>months_employed</th>\n",
       "      <th>years_employed</th>\n",
       "      <th>current_address_year</th>\n",
       "      <th>personal_account_m</th>\n",
       "      <th>personal_account_y</th>\n",
       "      <th>...</th>\n",
       "      <th>amount_requested</th>\n",
       "      <th>risk_score</th>\n",
       "      <th>risk_score_2</th>\n",
       "      <th>risk_score_3</th>\n",
       "      <th>risk_score_4</th>\n",
       "      <th>risk_score_5</th>\n",
       "      <th>ext_quality_score</th>\n",
       "      <th>ext_quality_score_2</th>\n",
       "      <th>inquiries_last_month</th>\n",
       "      <th>e_signed</th>\n",
       "    </tr>\n",
       "  </thead>\n",
       "  <tbody>\n",
       "    <tr>\n",
       "      <th>0</th>\n",
       "      <td>7629673</td>\n",
       "      <td>40</td>\n",
       "      <td>bi-weekly</td>\n",
       "      <td>1</td>\n",
       "      <td>3135</td>\n",
       "      <td>0</td>\n",
       "      <td>3</td>\n",
       "      <td>3</td>\n",
       "      <td>6</td>\n",
       "      <td>2</td>\n",
       "      <td>...</td>\n",
       "      <td>550</td>\n",
       "      <td>36200</td>\n",
       "      <td>0.737398</td>\n",
       "      <td>0.903517</td>\n",
       "      <td>0.487712</td>\n",
       "      <td>0.515977</td>\n",
       "      <td>0.580918</td>\n",
       "      <td>0.380918</td>\n",
       "      <td>10</td>\n",
       "      <td>1</td>\n",
       "    </tr>\n",
       "    <tr>\n",
       "      <th>1</th>\n",
       "      <td>3560428</td>\n",
       "      <td>61</td>\n",
       "      <td>weekly</td>\n",
       "      <td>0</td>\n",
       "      <td>3180</td>\n",
       "      <td>0</td>\n",
       "      <td>6</td>\n",
       "      <td>3</td>\n",
       "      <td>2</td>\n",
       "      <td>7</td>\n",
       "      <td>...</td>\n",
       "      <td>600</td>\n",
       "      <td>30150</td>\n",
       "      <td>0.738510</td>\n",
       "      <td>0.881027</td>\n",
       "      <td>0.713423</td>\n",
       "      <td>0.826402</td>\n",
       "      <td>0.730720</td>\n",
       "      <td>0.630720</td>\n",
       "      <td>9</td>\n",
       "      <td>0</td>\n",
       "    </tr>\n",
       "    <tr>\n",
       "      <th>2</th>\n",
       "      <td>6934997</td>\n",
       "      <td>23</td>\n",
       "      <td>weekly</td>\n",
       "      <td>0</td>\n",
       "      <td>1540</td>\n",
       "      <td>6</td>\n",
       "      <td>0</td>\n",
       "      <td>0</td>\n",
       "      <td>7</td>\n",
       "      <td>1</td>\n",
       "      <td>...</td>\n",
       "      <td>450</td>\n",
       "      <td>34550</td>\n",
       "      <td>0.642993</td>\n",
       "      <td>0.766554</td>\n",
       "      <td>0.595018</td>\n",
       "      <td>0.762284</td>\n",
       "      <td>0.531712</td>\n",
       "      <td>0.531712</td>\n",
       "      <td>7</td>\n",
       "      <td>0</td>\n",
       "    </tr>\n",
       "    <tr>\n",
       "      <th>3</th>\n",
       "      <td>5682812</td>\n",
       "      <td>40</td>\n",
       "      <td>bi-weekly</td>\n",
       "      <td>0</td>\n",
       "      <td>5230</td>\n",
       "      <td>0</td>\n",
       "      <td>6</td>\n",
       "      <td>1</td>\n",
       "      <td>2</td>\n",
       "      <td>7</td>\n",
       "      <td>...</td>\n",
       "      <td>700</td>\n",
       "      <td>42150</td>\n",
       "      <td>0.665224</td>\n",
       "      <td>0.960832</td>\n",
       "      <td>0.767828</td>\n",
       "      <td>0.778831</td>\n",
       "      <td>0.792552</td>\n",
       "      <td>0.592552</td>\n",
       "      <td>8</td>\n",
       "      <td>1</td>\n",
       "    </tr>\n",
       "    <tr>\n",
       "      <th>4</th>\n",
       "      <td>5335819</td>\n",
       "      <td>33</td>\n",
       "      <td>semi-monthly</td>\n",
       "      <td>0</td>\n",
       "      <td>3590</td>\n",
       "      <td>0</td>\n",
       "      <td>5</td>\n",
       "      <td>2</td>\n",
       "      <td>2</td>\n",
       "      <td>8</td>\n",
       "      <td>...</td>\n",
       "      <td>1100</td>\n",
       "      <td>53850</td>\n",
       "      <td>0.617361</td>\n",
       "      <td>0.857560</td>\n",
       "      <td>0.613487</td>\n",
       "      <td>0.665523</td>\n",
       "      <td>0.744634</td>\n",
       "      <td>0.744634</td>\n",
       "      <td>12</td>\n",
       "      <td>0</td>\n",
       "    </tr>\n",
       "  </tbody>\n",
       "</table>\n",
       "<p>5 rows × 21 columns</p>\n",
       "</div>"
      ],
      "text/plain": [
       "   entry_id  age  pay_schedule  home_owner  income  months_employed  \\\n",
       "0   7629673   40     bi-weekly           1    3135                0   \n",
       "1   3560428   61        weekly           0    3180                0   \n",
       "2   6934997   23        weekly           0    1540                6   \n",
       "3   5682812   40     bi-weekly           0    5230                0   \n",
       "4   5335819   33  semi-monthly           0    3590                0   \n",
       "\n",
       "   years_employed  current_address_year  personal_account_m  \\\n",
       "0               3                     3                   6   \n",
       "1               6                     3                   2   \n",
       "2               0                     0                   7   \n",
       "3               6                     1                   2   \n",
       "4               5                     2                   2   \n",
       "\n",
       "   personal_account_y  ...  amount_requested  risk_score  risk_score_2  \\\n",
       "0                   2  ...               550       36200      0.737398   \n",
       "1                   7  ...               600       30150      0.738510   \n",
       "2                   1  ...               450       34550      0.642993   \n",
       "3                   7  ...               700       42150      0.665224   \n",
       "4                   8  ...              1100       53850      0.617361   \n",
       "\n",
       "   risk_score_3  risk_score_4  risk_score_5  ext_quality_score  \\\n",
       "0      0.903517      0.487712      0.515977           0.580918   \n",
       "1      0.881027      0.713423      0.826402           0.730720   \n",
       "2      0.766554      0.595018      0.762284           0.531712   \n",
       "3      0.960832      0.767828      0.778831           0.792552   \n",
       "4      0.857560      0.613487      0.665523           0.744634   \n",
       "\n",
       "   ext_quality_score_2  inquiries_last_month  e_signed  \n",
       "0             0.380918                    10         1  \n",
       "1             0.630720                     9         0  \n",
       "2             0.531712                     7         0  \n",
       "3             0.592552                     8         1  \n",
       "4             0.744634                    12         0  \n",
       "\n",
       "[5 rows x 21 columns]"
      ]
     },
     "execution_count": 3,
     "metadata": {},
     "output_type": "execute_result"
    }
   ],
   "source": [
    "dataset.head()\n"
   ]
  },
  {
   "cell_type": "code",
   "execution_count": 4,
   "metadata": {},
   "outputs": [
    {
     "data": {
      "text/plain": [
       "Index(['entry_id', 'age', 'pay_schedule', 'home_owner', 'income',\n",
       "       'months_employed', 'years_employed', 'current_address_year',\n",
       "       'personal_account_m', 'personal_account_y', 'has_debt',\n",
       "       'amount_requested', 'risk_score', 'risk_score_2', 'risk_score_3',\n",
       "       'risk_score_4', 'risk_score_5', 'ext_quality_score',\n",
       "       'ext_quality_score_2', 'inquiries_last_month', 'e_signed'],\n",
       "      dtype='object')"
      ]
     },
     "execution_count": 4,
     "metadata": {},
     "output_type": "execute_result"
    }
   ],
   "source": [
    "dataset.columns"
   ]
  },
  {
   "cell_type": "code",
   "execution_count": 5,
   "metadata": {},
   "outputs": [
    {
     "data": {
      "text/html": [
       "<div>\n",
       "<style scoped>\n",
       "    .dataframe tbody tr th:only-of-type {\n",
       "        vertical-align: middle;\n",
       "    }\n",
       "\n",
       "    .dataframe tbody tr th {\n",
       "        vertical-align: top;\n",
       "    }\n",
       "\n",
       "    .dataframe thead th {\n",
       "        text-align: right;\n",
       "    }\n",
       "</style>\n",
       "<table border=\"1\" class=\"dataframe\">\n",
       "  <thead>\n",
       "    <tr style=\"text-align: right;\">\n",
       "      <th></th>\n",
       "      <th>entry_id</th>\n",
       "      <th>age</th>\n",
       "      <th>home_owner</th>\n",
       "      <th>income</th>\n",
       "      <th>months_employed</th>\n",
       "      <th>years_employed</th>\n",
       "      <th>current_address_year</th>\n",
       "      <th>personal_account_m</th>\n",
       "      <th>personal_account_y</th>\n",
       "      <th>has_debt</th>\n",
       "      <th>amount_requested</th>\n",
       "      <th>risk_score</th>\n",
       "      <th>risk_score_2</th>\n",
       "      <th>risk_score_3</th>\n",
       "      <th>risk_score_4</th>\n",
       "      <th>risk_score_5</th>\n",
       "      <th>ext_quality_score</th>\n",
       "      <th>ext_quality_score_2</th>\n",
       "      <th>inquiries_last_month</th>\n",
       "      <th>e_signed</th>\n",
       "    </tr>\n",
       "  </thead>\n",
       "  <tbody>\n",
       "    <tr>\n",
       "      <th>count</th>\n",
       "      <td>1.790800e+04</td>\n",
       "      <td>17908.000000</td>\n",
       "      <td>17908.000000</td>\n",
       "      <td>17908.000000</td>\n",
       "      <td>17908.000000</td>\n",
       "      <td>17908.000000</td>\n",
       "      <td>17908.000000</td>\n",
       "      <td>17908.000000</td>\n",
       "      <td>17908.000000</td>\n",
       "      <td>17908.000000</td>\n",
       "      <td>17908.000000</td>\n",
       "      <td>17908.000000</td>\n",
       "      <td>17908.000000</td>\n",
       "      <td>17908.000000</td>\n",
       "      <td>17908.000000</td>\n",
       "      <td>17908.000000</td>\n",
       "      <td>17908.000000</td>\n",
       "      <td>17908.000000</td>\n",
       "      <td>17908.000000</td>\n",
       "      <td>17908.000000</td>\n",
       "    </tr>\n",
       "    <tr>\n",
       "      <th>mean</th>\n",
       "      <td>5.596978e+06</td>\n",
       "      <td>43.015412</td>\n",
       "      <td>0.425173</td>\n",
       "      <td>3657.214653</td>\n",
       "      <td>1.186006</td>\n",
       "      <td>3.526860</td>\n",
       "      <td>3.584711</td>\n",
       "      <td>3.427183</td>\n",
       "      <td>3.503350</td>\n",
       "      <td>0.795399</td>\n",
       "      <td>950.446449</td>\n",
       "      <td>61086.302211</td>\n",
       "      <td>0.690878</td>\n",
       "      <td>0.878276</td>\n",
       "      <td>0.583155</td>\n",
       "      <td>0.718252</td>\n",
       "      <td>0.623112</td>\n",
       "      <td>0.622068</td>\n",
       "      <td>6.457226</td>\n",
       "      <td>0.538251</td>\n",
       "    </tr>\n",
       "    <tr>\n",
       "      <th>std</th>\n",
       "      <td>2.562473e+06</td>\n",
       "      <td>11.873107</td>\n",
       "      <td>0.494383</td>\n",
       "      <td>1504.890063</td>\n",
       "      <td>2.400897</td>\n",
       "      <td>2.259732</td>\n",
       "      <td>2.751937</td>\n",
       "      <td>2.216440</td>\n",
       "      <td>1.955568</td>\n",
       "      <td>0.403421</td>\n",
       "      <td>698.543683</td>\n",
       "      <td>15394.255020</td>\n",
       "      <td>0.090470</td>\n",
       "      <td>0.054563</td>\n",
       "      <td>0.125061</td>\n",
       "      <td>0.120697</td>\n",
       "      <td>0.139729</td>\n",
       "      <td>0.139898</td>\n",
       "      <td>3.673093</td>\n",
       "      <td>0.498549</td>\n",
       "    </tr>\n",
       "    <tr>\n",
       "      <th>min</th>\n",
       "      <td>1.111398e+06</td>\n",
       "      <td>18.000000</td>\n",
       "      <td>0.000000</td>\n",
       "      <td>905.000000</td>\n",
       "      <td>0.000000</td>\n",
       "      <td>0.000000</td>\n",
       "      <td>0.000000</td>\n",
       "      <td>0.000000</td>\n",
       "      <td>0.000000</td>\n",
       "      <td>0.000000</td>\n",
       "      <td>350.000000</td>\n",
       "      <td>2100.000000</td>\n",
       "      <td>0.023258</td>\n",
       "      <td>0.451371</td>\n",
       "      <td>0.016724</td>\n",
       "      <td>0.153367</td>\n",
       "      <td>0.010184</td>\n",
       "      <td>0.006622</td>\n",
       "      <td>1.000000</td>\n",
       "      <td>0.000000</td>\n",
       "    </tr>\n",
       "    <tr>\n",
       "      <th>25%</th>\n",
       "      <td>3.378999e+06</td>\n",
       "      <td>34.000000</td>\n",
       "      <td>0.000000</td>\n",
       "      <td>2580.000000</td>\n",
       "      <td>0.000000</td>\n",
       "      <td>2.000000</td>\n",
       "      <td>2.000000</td>\n",
       "      <td>2.000000</td>\n",
       "      <td>2.000000</td>\n",
       "      <td>1.000000</td>\n",
       "      <td>600.000000</td>\n",
       "      <td>49350.000000</td>\n",
       "      <td>0.640993</td>\n",
       "      <td>0.850882</td>\n",
       "      <td>0.500208</td>\n",
       "      <td>0.633708</td>\n",
       "      <td>0.521735</td>\n",
       "      <td>0.519677</td>\n",
       "      <td>4.000000</td>\n",
       "      <td>0.000000</td>\n",
       "    </tr>\n",
       "    <tr>\n",
       "      <th>50%</th>\n",
       "      <td>5.608376e+06</td>\n",
       "      <td>42.000000</td>\n",
       "      <td>0.000000</td>\n",
       "      <td>3260.000000</td>\n",
       "      <td>0.000000</td>\n",
       "      <td>3.000000</td>\n",
       "      <td>3.000000</td>\n",
       "      <td>2.000000</td>\n",
       "      <td>3.000000</td>\n",
       "      <td>1.000000</td>\n",
       "      <td>700.000000</td>\n",
       "      <td>61200.000000</td>\n",
       "      <td>0.699561</td>\n",
       "      <td>0.881004</td>\n",
       "      <td>0.588208</td>\n",
       "      <td>0.725113</td>\n",
       "      <td>0.625944</td>\n",
       "      <td>0.622974</td>\n",
       "      <td>6.000000</td>\n",
       "      <td>1.000000</td>\n",
       "    </tr>\n",
       "    <tr>\n",
       "      <th>75%</th>\n",
       "      <td>7.805624e+06</td>\n",
       "      <td>51.000000</td>\n",
       "      <td>1.000000</td>\n",
       "      <td>4670.000000</td>\n",
       "      <td>1.000000</td>\n",
       "      <td>5.000000</td>\n",
       "      <td>5.000000</td>\n",
       "      <td>5.000000</td>\n",
       "      <td>4.000000</td>\n",
       "      <td>1.000000</td>\n",
       "      <td>1100.000000</td>\n",
       "      <td>72750.000000</td>\n",
       "      <td>0.752887</td>\n",
       "      <td>0.912608</td>\n",
       "      <td>0.672395</td>\n",
       "      <td>0.806681</td>\n",
       "      <td>0.729841</td>\n",
       "      <td>0.728940</td>\n",
       "      <td>8.000000</td>\n",
       "      <td>1.000000</td>\n",
       "    </tr>\n",
       "    <tr>\n",
       "      <th>max</th>\n",
       "      <td>9.999874e+06</td>\n",
       "      <td>96.000000</td>\n",
       "      <td>1.000000</td>\n",
       "      <td>9985.000000</td>\n",
       "      <td>11.000000</td>\n",
       "      <td>16.000000</td>\n",
       "      <td>12.000000</td>\n",
       "      <td>11.000000</td>\n",
       "      <td>15.000000</td>\n",
       "      <td>1.000000</td>\n",
       "      <td>10200.000000</td>\n",
       "      <td>99750.000000</td>\n",
       "      <td>0.999997</td>\n",
       "      <td>0.999024</td>\n",
       "      <td>0.978932</td>\n",
       "      <td>0.996260</td>\n",
       "      <td>0.970249</td>\n",
       "      <td>0.966953</td>\n",
       "      <td>30.000000</td>\n",
       "      <td>1.000000</td>\n",
       "    </tr>\n",
       "  </tbody>\n",
       "</table>\n",
       "</div>"
      ],
      "text/plain": [
       "           entry_id           age    home_owner        income  \\\n",
       "count  1.790800e+04  17908.000000  17908.000000  17908.000000   \n",
       "mean   5.596978e+06     43.015412      0.425173   3657.214653   \n",
       "std    2.562473e+06     11.873107      0.494383   1504.890063   \n",
       "min    1.111398e+06     18.000000      0.000000    905.000000   \n",
       "25%    3.378999e+06     34.000000      0.000000   2580.000000   \n",
       "50%    5.608376e+06     42.000000      0.000000   3260.000000   \n",
       "75%    7.805624e+06     51.000000      1.000000   4670.000000   \n",
       "max    9.999874e+06     96.000000      1.000000   9985.000000   \n",
       "\n",
       "       months_employed  years_employed  current_address_year  \\\n",
       "count     17908.000000    17908.000000          17908.000000   \n",
       "mean          1.186006        3.526860              3.584711   \n",
       "std           2.400897        2.259732              2.751937   \n",
       "min           0.000000        0.000000              0.000000   \n",
       "25%           0.000000        2.000000              2.000000   \n",
       "50%           0.000000        3.000000              3.000000   \n",
       "75%           1.000000        5.000000              5.000000   \n",
       "max          11.000000       16.000000             12.000000   \n",
       "\n",
       "       personal_account_m  personal_account_y      has_debt  amount_requested  \\\n",
       "count        17908.000000        17908.000000  17908.000000      17908.000000   \n",
       "mean             3.427183            3.503350      0.795399        950.446449   \n",
       "std              2.216440            1.955568      0.403421        698.543683   \n",
       "min              0.000000            0.000000      0.000000        350.000000   \n",
       "25%              2.000000            2.000000      1.000000        600.000000   \n",
       "50%              2.000000            3.000000      1.000000        700.000000   \n",
       "75%              5.000000            4.000000      1.000000       1100.000000   \n",
       "max             11.000000           15.000000      1.000000      10200.000000   \n",
       "\n",
       "         risk_score  risk_score_2  risk_score_3  risk_score_4  risk_score_5  \\\n",
       "count  17908.000000  17908.000000  17908.000000  17908.000000  17908.000000   \n",
       "mean   61086.302211      0.690878      0.878276      0.583155      0.718252   \n",
       "std    15394.255020      0.090470      0.054563      0.125061      0.120697   \n",
       "min     2100.000000      0.023258      0.451371      0.016724      0.153367   \n",
       "25%    49350.000000      0.640993      0.850882      0.500208      0.633708   \n",
       "50%    61200.000000      0.699561      0.881004      0.588208      0.725113   \n",
       "75%    72750.000000      0.752887      0.912608      0.672395      0.806681   \n",
       "max    99750.000000      0.999997      0.999024      0.978932      0.996260   \n",
       "\n",
       "       ext_quality_score  ext_quality_score_2  inquiries_last_month  \\\n",
       "count       17908.000000         17908.000000          17908.000000   \n",
       "mean            0.623112             0.622068              6.457226   \n",
       "std             0.139729             0.139898              3.673093   \n",
       "min             0.010184             0.006622              1.000000   \n",
       "25%             0.521735             0.519677              4.000000   \n",
       "50%             0.625944             0.622974              6.000000   \n",
       "75%             0.729841             0.728940              8.000000   \n",
       "max             0.970249             0.966953             30.000000   \n",
       "\n",
       "           e_signed  \n",
       "count  17908.000000  \n",
       "mean       0.538251  \n",
       "std        0.498549  \n",
       "min        0.000000  \n",
       "25%        0.000000  \n",
       "50%        1.000000  \n",
       "75%        1.000000  \n",
       "max        1.000000  "
      ]
     },
     "execution_count": 5,
     "metadata": {},
     "output_type": "execute_result"
    }
   ],
   "source": [
    "dataset.describe()"
   ]
  },
  {
   "cell_type": "code",
   "execution_count": 6,
   "metadata": {},
   "outputs": [
    {
     "data": {
      "text/plain": [
       "entry_id                False\n",
       "age                     False\n",
       "pay_schedule            False\n",
       "home_owner              False\n",
       "income                  False\n",
       "months_employed         False\n",
       "years_employed          False\n",
       "current_address_year    False\n",
       "personal_account_m      False\n",
       "personal_account_y      False\n",
       "has_debt                False\n",
       "amount_requested        False\n",
       "risk_score              False\n",
       "risk_score_2            False\n",
       "risk_score_3            False\n",
       "risk_score_4            False\n",
       "risk_score_5            False\n",
       "ext_quality_score       False\n",
       "ext_quality_score_2     False\n",
       "inquiries_last_month    False\n",
       "e_signed                False\n",
       "dtype: bool"
      ]
     },
     "execution_count": 6,
     "metadata": {},
     "output_type": "execute_result"
    }
   ],
   "source": [
    "dataset.isna().any()"
   ]
  },
  {
   "cell_type": "code",
   "execution_count": 7,
   "metadata": {},
   "outputs": [],
   "source": [
    "dataset_new = dataset.drop(columns = ['entry_id', 'pay_schedule', 'e_signed'])"
   ]
  },
  {
   "cell_type": "markdown",
   "metadata": {},
   "source": [
    "<h2>Histogram Plot<h2>"
   ]
  },
  {
   "cell_type": "code",
   "execution_count": 8,
   "metadata": {},
   "outputs": [
    {
     "data": {
      "image/png": "[encoded data removed]",
      "text/plain": [
       "<Figure size 1080x864 with 18 Axes>"
      ]
     },
     "metadata": {
      "needs_background": "light"
     },
     "output_type": "display_data"
    }
   ],
   "source": [
    "fig = plt.figure(figsize=(15,12))\n",
    "plt.suptitle('Histograms', fontsize=20)\n",
    "\n",
    "for i in range(dataset_new.shape[1]):\n",
    "    plt.subplot(6,3, i+1)\n",
    "    f = plt.gca()\n",
    "    f.set_title(dataset_new.columns.values[i])\n",
    "\n",
    "    vals = np.size(dataset_new.iloc[:, i].unique())\n",
    "    if vals >= 100: #to speed up figure creating process for columns having larger number of bins \n",
    "        vals = 100\n",
    "\n",
    "    plt.hist(dataset_new.iloc[:,i], bins=vals, color='#3F5D7D')\n",
    "\n",
    "plt.tight_layout(rect=[0, 0.03, 1, 0.95])\n"
   ]
  },
  {
   "cell_type": "markdown",
   "metadata": {},
   "source": [
    "<h2>Correaltion Plot<h2>"
   ]
  },
  {
   "cell_type": "code",
   "execution_count": 9,
   "metadata": {},
   "outputs": [
    {
     "data": {
      "text/plain": [
       "<AxesSubplot:title={'center':'Correlation with E-Signed'}>"
      ]
     },
     "execution_count": 9,
     "metadata": {},
     "output_type": "execute_result"
    },
    {
     "data": {
      "image/png": "[encoded data removed]",
      "text/plain": [
       "<Figure size 1440x720 with 1 Axes>"
      ]
     },
     "metadata": {
      "needs_background": "light"
     },
     "output_type": "display_data"
    }
   ],
   "source": [
    "  dataset_new.corrwith(dataset.e_signed).plot.bar(\n",
    "      figsize = (20,10), title = \"Correlation with E-Signed\", grid = True\n",
    "\n",
    "  )"
   ]
  },
  {
   "cell_type": "code",
   "execution_count": 10,
   "metadata": {},
   "outputs": [
    {
     "data": {
      "text/plain": [
       "(17908, 21)"
      ]
     },
     "execution_count": 10,
     "metadata": {},
     "output_type": "execute_result"
    }
   ],
   "source": [
    "dataset.shape"
   ]
  },
  {
   "cell_type": "code",
   "execution_count": 11,
   "metadata": {},
   "outputs": [
    {
     "name": "stdout",
     "output_type": "stream",
     "text": [
      "(18, 18)\n"
     ]
    }
   ],
   "source": [
    "corr = dataset_new.corr()\n",
    "print(corr.shape)"
   ]
  },
  {
   "cell_type": "code",
   "execution_count": 12,
   "metadata": {},
   "outputs": [
    {
     "data": {
      "text/plain": [
       "(18, 18)"
      ]
     },
     "execution_count": 12,
     "metadata": {},
     "output_type": "execute_result"
    }
   ],
   "source": [
    "mask = np.tri(corr.shape[0], k=0).T\n",
    "corr_masked = np.ma.array(corr, mask=mask) # mask out the upper triangle\n",
    "mask.shape"
   ]
  },
  {
   "cell_type": "code",
   "execution_count": 13,
   "metadata": {},
   "outputs": [
    {
     "data": {
      "text/plain": [
       "<AxesSubplot:>"
      ]
     },
     "execution_count": 13,
     "metadata": {},
     "output_type": "execute_result"
    },
    {
     "data": {
      "image/png": "[encoded data removed]",
      "text/plain": [
       "<Figure size 1296x864 with 2 Axes>"
      ]
     },
     "metadata": {
      "needs_background": "light"
     },
     "output_type": "display_data"
    }
   ],
   "source": [
    "f, ax = plt.subplots(figsize=(18,12))\n",
    "cmap = sns.diverging_palette(220,10, as_cmap=True) #Generate a blue-white-red palette:\n",
    "sns.heatmap(\n",
    "    corr, mask=mask, cmap=cmap, vmax=.3, center=0, square=True,\n",
    "    linewidths=.5\n",
    ")"
   ]
  },
  {
   "cell_type": "code",
   "execution_count": null,
   "metadata": {},
   "outputs": [],
   "source": []
  },
  {
   "cell_type": "markdown",
   "metadata": {},
   "source": [
    "<h2>Feature Engineering<h2>"
   ]
  },
  {
   "cell_type": "code",
   "execution_count": 14,
   "metadata": {},
   "outputs": [
    {
     "data": {
      "text/html": [
       "<div>\n",
       "<style scoped>\n",
       "    .dataframe tbody tr th:only-of-type {\n",
       "        vertical-align: middle;\n",
       "    }\n",
       "\n",
       "    .dataframe tbody tr th {\n",
       "        vertical-align: top;\n",
       "    }\n",
       "\n",
       "    .dataframe thead th {\n",
       "        text-align: right;\n",
       "    }\n",
       "</style>\n",
       "<table border=\"1\" class=\"dataframe\">\n",
       "  <thead>\n",
       "    <tr style=\"text-align: right;\">\n",
       "      <th></th>\n",
       "      <th>entry_id</th>\n",
       "      <th>age</th>\n",
       "      <th>pay_schedule</th>\n",
       "      <th>home_owner</th>\n",
       "      <th>income</th>\n",
       "      <th>years_employed</th>\n",
       "      <th>current_address_year</th>\n",
       "      <th>has_debt</th>\n",
       "      <th>amount_requested</th>\n",
       "      <th>risk_score</th>\n",
       "      <th>risk_score_2</th>\n",
       "      <th>risk_score_3</th>\n",
       "      <th>risk_score_4</th>\n",
       "      <th>risk_score_5</th>\n",
       "      <th>ext_quality_score</th>\n",
       "      <th>ext_quality_score_2</th>\n",
       "      <th>inquiries_last_month</th>\n",
       "      <th>e_signed</th>\n",
       "      <th>personal_account_months</th>\n",
       "    </tr>\n",
       "  </thead>\n",
       "  <tbody>\n",
       "    <tr>\n",
       "      <th>14601</th>\n",
       "      <td>3274913</td>\n",
       "      <td>60</td>\n",
       "      <td>weekly</td>\n",
       "      <td>1</td>\n",
       "      <td>3140</td>\n",
       "      <td>6</td>\n",
       "      <td>9</td>\n",
       "      <td>1</td>\n",
       "      <td>1200</td>\n",
       "      <td>38100</td>\n",
       "      <td>0.512320</td>\n",
       "      <td>0.884382</td>\n",
       "      <td>0.517273</td>\n",
       "      <td>0.770713</td>\n",
       "      <td>0.364955</td>\n",
       "      <td>0.564955</td>\n",
       "      <td>8</td>\n",
       "      <td>0</td>\n",
       "      <td>54</td>\n",
       "    </tr>\n",
       "    <tr>\n",
       "      <th>1092</th>\n",
       "      <td>8694052</td>\n",
       "      <td>60</td>\n",
       "      <td>semi-monthly</td>\n",
       "      <td>0</td>\n",
       "      <td>3530</td>\n",
       "      <td>2</td>\n",
       "      <td>0</td>\n",
       "      <td>1</td>\n",
       "      <td>800</td>\n",
       "      <td>35150</td>\n",
       "      <td>0.367184</td>\n",
       "      <td>0.894606</td>\n",
       "      <td>0.458180</td>\n",
       "      <td>0.647276</td>\n",
       "      <td>0.611040</td>\n",
       "      <td>0.711040</td>\n",
       "      <td>20</td>\n",
       "      <td>0</td>\n",
       "      <td>26</td>\n",
       "    </tr>\n",
       "    <tr>\n",
       "      <th>1884</th>\n",
       "      <td>9031307</td>\n",
       "      <td>33</td>\n",
       "      <td>monthly</td>\n",
       "      <td>0</td>\n",
       "      <td>4725</td>\n",
       "      <td>3</td>\n",
       "      <td>3</td>\n",
       "      <td>1</td>\n",
       "      <td>900</td>\n",
       "      <td>73600</td>\n",
       "      <td>0.787871</td>\n",
       "      <td>0.976522</td>\n",
       "      <td>0.382384</td>\n",
       "      <td>0.549335</td>\n",
       "      <td>0.547824</td>\n",
       "      <td>0.347824</td>\n",
       "      <td>3</td>\n",
       "      <td>0</td>\n",
       "      <td>86</td>\n",
       "    </tr>\n",
       "    <tr>\n",
       "      <th>2660</th>\n",
       "      <td>4535382</td>\n",
       "      <td>37</td>\n",
       "      <td>bi-weekly</td>\n",
       "      <td>1</td>\n",
       "      <td>3526</td>\n",
       "      <td>2</td>\n",
       "      <td>3</td>\n",
       "      <td>1</td>\n",
       "      <td>700</td>\n",
       "      <td>35350</td>\n",
       "      <td>0.679077</td>\n",
       "      <td>0.854126</td>\n",
       "      <td>0.592567</td>\n",
       "      <td>0.748273</td>\n",
       "      <td>0.730410</td>\n",
       "      <td>0.730410</td>\n",
       "      <td>11</td>\n",
       "      <td>0</td>\n",
       "      <td>28</td>\n",
       "    </tr>\n",
       "    <tr>\n",
       "      <th>6536</th>\n",
       "      <td>8936843</td>\n",
       "      <td>50</td>\n",
       "      <td>bi-weekly</td>\n",
       "      <td>0</td>\n",
       "      <td>1790</td>\n",
       "      <td>5</td>\n",
       "      <td>1</td>\n",
       "      <td>1</td>\n",
       "      <td>600</td>\n",
       "      <td>49350</td>\n",
       "      <td>0.663224</td>\n",
       "      <td>0.857560</td>\n",
       "      <td>0.799629</td>\n",
       "      <td>0.842375</td>\n",
       "      <td>0.579810</td>\n",
       "      <td>0.679810</td>\n",
       "      <td>3</td>\n",
       "      <td>1</td>\n",
       "      <td>54</td>\n",
       "    </tr>\n",
       "  </tbody>\n",
       "</table>\n",
       "</div>"
      ],
      "text/plain": [
       "       entry_id  age  pay_schedule  home_owner  income  years_employed  \\\n",
       "14601   3274913   60        weekly           1    3140               6   \n",
       "1092    8694052   60  semi-monthly           0    3530               2   \n",
       "1884    9031307   33       monthly           0    4725               3   \n",
       "2660    4535382   37     bi-weekly           1    3526               2   \n",
       "6536    8936843   50     bi-weekly           0    1790               5   \n",
       "\n",
       "       current_address_year  has_debt  amount_requested  risk_score  \\\n",
       "14601                     9         1              1200       38100   \n",
       "1092                      0         1               800       35150   \n",
       "1884                      3         1               900       73600   \n",
       "2660                      3         1               700       35350   \n",
       "6536                      1         1               600       49350   \n",
       "\n",
       "       risk_score_2  risk_score_3  risk_score_4  risk_score_5  \\\n",
       "14601      0.512320      0.884382      0.517273      0.770713   \n",
       "1092       0.367184      0.894606      0.458180      0.647276   \n",
       "1884       0.787871      0.976522      0.382384      0.549335   \n",
       "2660       0.679077      0.854126      0.592567      0.748273   \n",
       "6536       0.663224      0.857560      0.799629      0.842375   \n",
       "\n",
       "       ext_quality_score  ext_quality_score_2  inquiries_last_month  e_signed  \\\n",
       "14601           0.364955             0.564955                     8         0   \n",
       "1092            0.611040             0.711040                    20         0   \n",
       "1884            0.547824             0.347824                     3         0   \n",
       "2660            0.730410             0.730410                    11         0   \n",
       "6536            0.579810             0.679810                     3         1   \n",
       "\n",
       "       personal_account_months  \n",
       "14601                       54  \n",
       "1092                        26  \n",
       "1884                        86  \n",
       "2660                        28  \n",
       "6536                        54  "
      ]
     },
     "execution_count": 14,
     "metadata": {},
     "output_type": "execute_result"
    }
   ],
   "source": [
    "dataset_feature = dataset.drop(columns = ['months_employed'])\n",
    "dataset_feature['personal_account_months'] = ((dataset_feature.personal_account_y * 12) + dataset_feature.personal_account_m)\n",
    "dataset_feature = dataset_feature.drop(columns = ['personal_account_y', 'personal_account_m'])\n",
    "\n",
    "dataset_feature.sample(5)"
   ]
  },
  {
   "cell_type": "markdown",
   "metadata": {},
   "source": [
    "<h3> One Hot Encoding <h3>\n"
   ]
  },
  {
   "cell_type": "code",
   "execution_count": 15,
   "metadata": {},
   "outputs": [
    {
     "data": {
      "text/plain": [
       "bi-weekly       10716\n",
       "weekly           3696\n",
       "semi-monthly     2004\n",
       "monthly          1492\n",
       "Name: pay_schedule, dtype: int64"
      ]
     },
     "execution_count": 15,
     "metadata": {},
     "output_type": "execute_result"
    }
   ],
   "source": [
    "dataset_feature['pay_schedule'].value_counts()"
   ]
  },
  {
   "cell_type": "code",
   "execution_count": 16,
   "metadata": {},
   "outputs": [
    {
     "data": {
      "text/plain": [
       "Index(['entry_id', 'age', 'home_owner', 'income', 'years_employed',\n",
       "       'current_address_year', 'has_debt', 'amount_requested', 'risk_score',\n",
       "       'risk_score_2', 'risk_score_3', 'risk_score_4', 'risk_score_5',\n",
       "       'ext_quality_score', 'ext_quality_score_2', 'inquiries_last_month',\n",
       "       'e_signed', 'personal_account_months', 'pay_schedule_bi-weekly',\n",
       "       'pay_schedule_monthly', 'pay_schedule_semi-monthly',\n",
       "       'pay_schedule_weekly'],\n",
       "      dtype='object')"
      ]
     },
     "execution_count": 16,
     "metadata": {},
     "output_type": "execute_result"
    }
   ],
   "source": [
    "dataset_feature = pd.get_dummies(dataset_feature)\n",
    "dataset_feature.columns"
   ]
  },
  {
   "cell_type": "code",
   "execution_count": 17,
   "metadata": {},
   "outputs": [
    {
     "data": {
      "text/html": [
       "<div>\n",
       "<style scoped>\n",
       "    .dataframe tbody tr th:only-of-type {\n",
       "        vertical-align: middle;\n",
       "    }\n",
       "\n",
       "    .dataframe tbody tr th {\n",
       "        vertical-align: top;\n",
       "    }\n",
       "\n",
       "    .dataframe thead th {\n",
       "        text-align: right;\n",
       "    }\n",
       "</style>\n",
       "<table border=\"1\" class=\"dataframe\">\n",
       "  <thead>\n",
       "    <tr style=\"text-align: right;\">\n",
       "      <th></th>\n",
       "      <th>entry_id</th>\n",
       "      <th>age</th>\n",
       "      <th>home_owner</th>\n",
       "      <th>income</th>\n",
       "      <th>years_employed</th>\n",
       "      <th>current_address_year</th>\n",
       "      <th>has_debt</th>\n",
       "      <th>amount_requested</th>\n",
       "      <th>risk_score</th>\n",
       "      <th>risk_score_2</th>\n",
       "      <th>...</th>\n",
       "      <th>risk_score_4</th>\n",
       "      <th>risk_score_5</th>\n",
       "      <th>ext_quality_score</th>\n",
       "      <th>ext_quality_score_2</th>\n",
       "      <th>inquiries_last_month</th>\n",
       "      <th>e_signed</th>\n",
       "      <th>personal_account_months</th>\n",
       "      <th>pay_schedule_bi-weekly</th>\n",
       "      <th>pay_schedule_semi-monthly</th>\n",
       "      <th>pay_schedule_weekly</th>\n",
       "    </tr>\n",
       "  </thead>\n",
       "  <tbody>\n",
       "    <tr>\n",
       "      <th>16180</th>\n",
       "      <td>3762526</td>\n",
       "      <td>38</td>\n",
       "      <td>0</td>\n",
       "      <td>3951</td>\n",
       "      <td>2</td>\n",
       "      <td>1</td>\n",
       "      <td>1</td>\n",
       "      <td>400</td>\n",
       "      <td>47800</td>\n",
       "      <td>0.715429</td>\n",
       "      <td>...</td>\n",
       "      <td>0.612295</td>\n",
       "      <td>0.832255</td>\n",
       "      <td>0.660140</td>\n",
       "      <td>0.660140</td>\n",
       "      <td>6</td>\n",
       "      <td>1</td>\n",
       "      <td>0</td>\n",
       "      <td>0</td>\n",
       "      <td>0</td>\n",
       "      <td>1</td>\n",
       "    </tr>\n",
       "    <tr>\n",
       "      <th>8846</th>\n",
       "      <td>7304699</td>\n",
       "      <td>48</td>\n",
       "      <td>1</td>\n",
       "      <td>3755</td>\n",
       "      <td>6</td>\n",
       "      <td>4</td>\n",
       "      <td>1</td>\n",
       "      <td>1200</td>\n",
       "      <td>77000</td>\n",
       "      <td>0.737777</td>\n",
       "      <td>...</td>\n",
       "      <td>0.710066</td>\n",
       "      <td>0.777222</td>\n",
       "      <td>0.643265</td>\n",
       "      <td>0.643265</td>\n",
       "      <td>4</td>\n",
       "      <td>1</td>\n",
       "      <td>87</td>\n",
       "      <td>0</td>\n",
       "      <td>0</td>\n",
       "      <td>1</td>\n",
       "    </tr>\n",
       "    <tr>\n",
       "      <th>15969</th>\n",
       "      <td>2787530</td>\n",
       "      <td>66</td>\n",
       "      <td>0</td>\n",
       "      <td>5160</td>\n",
       "      <td>7</td>\n",
       "      <td>5</td>\n",
       "      <td>1</td>\n",
       "      <td>900</td>\n",
       "      <td>84000</td>\n",
       "      <td>0.680728</td>\n",
       "      <td>...</td>\n",
       "      <td>0.495786</td>\n",
       "      <td>0.777724</td>\n",
       "      <td>0.780814</td>\n",
       "      <td>0.680814</td>\n",
       "      <td>6</td>\n",
       "      <td>0</td>\n",
       "      <td>97</td>\n",
       "      <td>1</td>\n",
       "      <td>0</td>\n",
       "      <td>0</td>\n",
       "    </tr>\n",
       "    <tr>\n",
       "      <th>1466</th>\n",
       "      <td>8100998</td>\n",
       "      <td>28</td>\n",
       "      <td>1</td>\n",
       "      <td>3380</td>\n",
       "      <td>2</td>\n",
       "      <td>2</td>\n",
       "      <td>1</td>\n",
       "      <td>600</td>\n",
       "      <td>34350</td>\n",
       "      <td>0.651994</td>\n",
       "      <td>...</td>\n",
       "      <td>0.558924</td>\n",
       "      <td>0.605640</td>\n",
       "      <td>0.372482</td>\n",
       "      <td>0.372482</td>\n",
       "      <td>4</td>\n",
       "      <td>1</td>\n",
       "      <td>37</td>\n",
       "      <td>1</td>\n",
       "      <td>0</td>\n",
       "      <td>0</td>\n",
       "    </tr>\n",
       "    <tr>\n",
       "      <th>10028</th>\n",
       "      <td>9774384</td>\n",
       "      <td>50</td>\n",
       "      <td>1</td>\n",
       "      <td>2110</td>\n",
       "      <td>5</td>\n",
       "      <td>6</td>\n",
       "      <td>1</td>\n",
       "      <td>600</td>\n",
       "      <td>51300</td>\n",
       "      <td>0.799710</td>\n",
       "      <td>...</td>\n",
       "      <td>0.476302</td>\n",
       "      <td>0.666827</td>\n",
       "      <td>0.684627</td>\n",
       "      <td>0.584627</td>\n",
       "      <td>4</td>\n",
       "      <td>0</td>\n",
       "      <td>54</td>\n",
       "      <td>1</td>\n",
       "      <td>0</td>\n",
       "      <td>0</td>\n",
       "    </tr>\n",
       "  </tbody>\n",
       "</table>\n",
       "<p>5 rows × 21 columns</p>\n",
       "</div>"
      ],
      "text/plain": [
       "       entry_id  age  home_owner  income  years_employed  \\\n",
       "16180   3762526   38           0    3951               2   \n",
       "8846    7304699   48           1    3755               6   \n",
       "15969   2787530   66           0    5160               7   \n",
       "1466    8100998   28           1    3380               2   \n",
       "10028   9774384   50           1    2110               5   \n",
       "\n",
       "       current_address_year  has_debt  amount_requested  risk_score  \\\n",
       "16180                     1         1               400       47800   \n",
       "8846                      4         1              1200       77000   \n",
       "15969                     5         1               900       84000   \n",
       "1466                      2         1               600       34350   \n",
       "10028                     6         1               600       51300   \n",
       "\n",
       "       risk_score_2  ...  risk_score_4  risk_score_5  ext_quality_score  \\\n",
       "16180      0.715429  ...      0.612295      0.832255           0.660140   \n",
       "8846       0.737777  ...      0.710066      0.777222           0.643265   \n",
       "15969      0.680728  ...      0.495786      0.777724           0.780814   \n",
       "1466       0.651994  ...      0.558924      0.605640           0.372482   \n",
       "10028      0.799710  ...      0.476302      0.666827           0.684627   \n",
       "\n",
       "       ext_quality_score_2  inquiries_last_month  e_signed  \\\n",
       "16180             0.660140                     6         1   \n",
       "8846              0.643265                     4         1   \n",
       "15969             0.680814                     6         0   \n",
       "1466              0.372482                     4         1   \n",
       "10028             0.584627                     4         0   \n",
       "\n",
       "       personal_account_months  pay_schedule_bi-weekly  \\\n",
       "16180                        0                       0   \n",
       "8846                        87                       0   \n",
       "15969                       97                       1   \n",
       "1466                        37                       1   \n",
       "10028                       54                       1   \n",
       "\n",
       "       pay_schedule_semi-monthly  pay_schedule_weekly  \n",
       "16180                          0                    1  \n",
       "8846                           0                    1  \n",
       "15969                          0                    0  \n",
       "1466                           0                    0  \n",
       "10028                          0                    0  \n",
       "\n",
       "[5 rows x 21 columns]"
      ]
     },
     "execution_count": 17,
     "metadata": {},
     "output_type": "execute_result"
    }
   ],
   "source": [
    "#dropping pay_schedule_monthly to avoid multi-colinearity (monthly pay column has the less occurances)\n",
    "dataset_feature = dataset_feature.drop(columns = ['pay_schedule_monthly'])\n",
    "dataset_feature.sample(5)"
   ]
  },
  {
   "cell_type": "code",
   "execution_count": 18,
   "metadata": {},
   "outputs": [
    {
     "data": {
      "text/plain": [
       "Index(['entry_id', 'age', 'home_owner', 'income', 'years_employed',\n",
       "       'current_address_year', 'has_debt', 'amount_requested', 'risk_score',\n",
       "       'risk_score_2', 'risk_score_3', 'risk_score_4', 'risk_score_5',\n",
       "       'ext_quality_score', 'ext_quality_score_2', 'inquiries_last_month',\n",
       "       'e_signed', 'personal_account_months', 'pay_schedule_bi-weekly',\n",
       "       'pay_schedule_semi-monthly', 'pay_schedule_weekly'],\n",
       "      dtype='object')"
      ]
     },
     "execution_count": 18,
     "metadata": {},
     "output_type": "execute_result"
    }
   ],
   "source": [
    "#re-arranging dataframe\n",
    "dataset_feature.columns"
   ]
  },
  {
   "cell_type": "code",
   "execution_count": 19,
   "metadata": {},
   "outputs": [
    {
     "data": {
      "text/html": [
       "<div>\n",
       "<style scoped>\n",
       "    .dataframe tbody tr th:only-of-type {\n",
       "        vertical-align: middle;\n",
       "    }\n",
       "\n",
       "    .dataframe tbody tr th {\n",
       "        vertical-align: top;\n",
       "    }\n",
       "\n",
       "    .dataframe thead th {\n",
       "        text-align: right;\n",
       "    }\n",
       "</style>\n",
       "<table border=\"1\" class=\"dataframe\">\n",
       "  <thead>\n",
       "    <tr style=\"text-align: right;\">\n",
       "      <th></th>\n",
       "      <th>entry_id</th>\n",
       "      <th>age</th>\n",
       "      <th>home_owner</th>\n",
       "      <th>income</th>\n",
       "      <th>years_employed</th>\n",
       "      <th>current_address_year</th>\n",
       "      <th>pay_schedule_bi-weekly</th>\n",
       "      <th>pay_schedule_semi-monthly</th>\n",
       "      <th>pay_schedule_weekly</th>\n",
       "      <th>has_debt</th>\n",
       "      <th>...</th>\n",
       "      <th>risk_score</th>\n",
       "      <th>personal_account_months</th>\n",
       "      <th>risk_score_2</th>\n",
       "      <th>risk_score_3</th>\n",
       "      <th>risk_score_4</th>\n",
       "      <th>risk_score_5</th>\n",
       "      <th>ext_quality_score</th>\n",
       "      <th>ext_quality_score_2</th>\n",
       "      <th>inquiries_last_month</th>\n",
       "      <th>e_signed</th>\n",
       "    </tr>\n",
       "  </thead>\n",
       "  <tbody>\n",
       "    <tr>\n",
       "      <th>0</th>\n",
       "      <td>7629673</td>\n",
       "      <td>40</td>\n",
       "      <td>1</td>\n",
       "      <td>3135</td>\n",
       "      <td>3</td>\n",
       "      <td>3</td>\n",
       "      <td>1</td>\n",
       "      <td>0</td>\n",
       "      <td>0</td>\n",
       "      <td>1</td>\n",
       "      <td>...</td>\n",
       "      <td>36200</td>\n",
       "      <td>30</td>\n",
       "      <td>0.737398</td>\n",
       "      <td>0.903517</td>\n",
       "      <td>0.487712</td>\n",
       "      <td>0.515977</td>\n",
       "      <td>0.580918</td>\n",
       "      <td>0.380918</td>\n",
       "      <td>10</td>\n",
       "      <td>1</td>\n",
       "    </tr>\n",
       "    <tr>\n",
       "      <th>1</th>\n",
       "      <td>3560428</td>\n",
       "      <td>61</td>\n",
       "      <td>0</td>\n",
       "      <td>3180</td>\n",
       "      <td>6</td>\n",
       "      <td>3</td>\n",
       "      <td>0</td>\n",
       "      <td>0</td>\n",
       "      <td>1</td>\n",
       "      <td>1</td>\n",
       "      <td>...</td>\n",
       "      <td>30150</td>\n",
       "      <td>86</td>\n",
       "      <td>0.738510</td>\n",
       "      <td>0.881027</td>\n",
       "      <td>0.713423</td>\n",
       "      <td>0.826402</td>\n",
       "      <td>0.730720</td>\n",
       "      <td>0.630720</td>\n",
       "      <td>9</td>\n",
       "      <td>0</td>\n",
       "    </tr>\n",
       "    <tr>\n",
       "      <th>2</th>\n",
       "      <td>6934997</td>\n",
       "      <td>23</td>\n",
       "      <td>0</td>\n",
       "      <td>1540</td>\n",
       "      <td>0</td>\n",
       "      <td>0</td>\n",
       "      <td>0</td>\n",
       "      <td>0</td>\n",
       "      <td>1</td>\n",
       "      <td>1</td>\n",
       "      <td>...</td>\n",
       "      <td>34550</td>\n",
       "      <td>19</td>\n",
       "      <td>0.642993</td>\n",
       "      <td>0.766554</td>\n",
       "      <td>0.595018</td>\n",
       "      <td>0.762284</td>\n",
       "      <td>0.531712</td>\n",
       "      <td>0.531712</td>\n",
       "      <td>7</td>\n",
       "      <td>0</td>\n",
       "    </tr>\n",
       "    <tr>\n",
       "      <th>3</th>\n",
       "      <td>5682812</td>\n",
       "      <td>40</td>\n",
       "      <td>0</td>\n",
       "      <td>5230</td>\n",
       "      <td>6</td>\n",
       "      <td>1</td>\n",
       "      <td>1</td>\n",
       "      <td>0</td>\n",
       "      <td>0</td>\n",
       "      <td>1</td>\n",
       "      <td>...</td>\n",
       "      <td>42150</td>\n",
       "      <td>86</td>\n",
       "      <td>0.665224</td>\n",
       "      <td>0.960832</td>\n",
       "      <td>0.767828</td>\n",
       "      <td>0.778831</td>\n",
       "      <td>0.792552</td>\n",
       "      <td>0.592552</td>\n",
       "      <td>8</td>\n",
       "      <td>1</td>\n",
       "    </tr>\n",
       "    <tr>\n",
       "      <th>4</th>\n",
       "      <td>5335819</td>\n",
       "      <td>33</td>\n",
       "      <td>0</td>\n",
       "      <td>3590</td>\n",
       "      <td>5</td>\n",
       "      <td>2</td>\n",
       "      <td>0</td>\n",
       "      <td>1</td>\n",
       "      <td>0</td>\n",
       "      <td>1</td>\n",
       "      <td>...</td>\n",
       "      <td>53850</td>\n",
       "      <td>98</td>\n",
       "      <td>0.617361</td>\n",
       "      <td>0.857560</td>\n",
       "      <td>0.613487</td>\n",
       "      <td>0.665523</td>\n",
       "      <td>0.744634</td>\n",
       "      <td>0.744634</td>\n",
       "      <td>12</td>\n",
       "      <td>0</td>\n",
       "    </tr>\n",
       "  </tbody>\n",
       "</table>\n",
       "<p>5 rows × 21 columns</p>\n",
       "</div>"
      ],
      "text/plain": [
       "   entry_id  age  home_owner  income  years_employed  current_address_year  \\\n",
       "0   7629673   40           1    3135               3                     3   \n",
       "1   3560428   61           0    3180               6                     3   \n",
       "2   6934997   23           0    1540               0                     0   \n",
       "3   5682812   40           0    5230               6                     1   \n",
       "4   5335819   33           0    3590               5                     2   \n",
       "\n",
       "   pay_schedule_bi-weekly  pay_schedule_semi-monthly  pay_schedule_weekly  \\\n",
       "0                       1                          0                    0   \n",
       "1                       0                          0                    1   \n",
       "2                       0                          0                    1   \n",
       "3                       1                          0                    0   \n",
       "4                       0                          1                    0   \n",
       "\n",
       "   has_debt  ...  risk_score  personal_account_months  risk_score_2  \\\n",
       "0         1  ...       36200                       30      0.737398   \n",
       "1         1  ...       30150                       86      0.738510   \n",
       "2         1  ...       34550                       19      0.642993   \n",
       "3         1  ...       42150                       86      0.665224   \n",
       "4         1  ...       53850                       98      0.617361   \n",
       "\n",
       "   risk_score_3  risk_score_4  risk_score_5  ext_quality_score  \\\n",
       "0      0.903517      0.487712      0.515977           0.580918   \n",
       "1      0.881027      0.713423      0.826402           0.730720   \n",
       "2      0.766554      0.595018      0.762284           0.531712   \n",
       "3      0.960832      0.767828      0.778831           0.792552   \n",
       "4      0.857560      0.613487      0.665523           0.744634   \n",
       "\n",
       "   ext_quality_score_2  inquiries_last_month  e_signed  \n",
       "0             0.380918                    10         1  \n",
       "1             0.630720                     9         0  \n",
       "2             0.531712                     7         0  \n",
       "3             0.592552                     8         1  \n",
       "4             0.744634                    12         0  \n",
       "\n",
       "[5 rows x 21 columns]"
      ]
     },
     "execution_count": 19,
     "metadata": {},
     "output_type": "execute_result"
    }
   ],
   "source": [
    "dataset_feature = dataset_feature[['entry_id', 'age', 'home_owner', 'income', 'years_employed',\n",
    "       'current_address_year', 'pay_schedule_bi-weekly',\n",
    "       'pay_schedule_semi-monthly', 'pay_schedule_weekly', \n",
    "       'has_debt', 'amount_requested', 'risk_score', 'personal_account_months',\n",
    "       'risk_score_2', 'risk_score_3', 'risk_score_4', 'risk_score_5',\n",
    "       'ext_quality_score', 'ext_quality_score_2', 'inquiries_last_month',\n",
    "       'e_signed']]\n",
    "dataset_feature.head()"
   ]
  },
  {
   "cell_type": "markdown",
   "metadata": {},
   "source": [
    "<h1> Train-Test Split <h1>"
   ]
  },
  {
   "cell_type": "code",
   "execution_count": 20,
   "metadata": {},
   "outputs": [],
   "source": [
    "from sklearn.model_selection import train_test_split\n"
   ]
  },
  {
   "cell_type": "code",
   "execution_count": 21,
   "metadata": {},
   "outputs": [
    {
     "data": {
      "text/html": [
       "<div>\n",
       "<style scoped>\n",
       "    .dataframe tbody tr th:only-of-type {\n",
       "        vertical-align: middle;\n",
       "    }\n",
       "\n",
       "    .dataframe tbody tr th {\n",
       "        vertical-align: top;\n",
       "    }\n",
       "\n",
       "    .dataframe thead th {\n",
       "        text-align: right;\n",
       "    }\n",
       "</style>\n",
       "<table border=\"1\" class=\"dataframe\">\n",
       "  <thead>\n",
       "    <tr style=\"text-align: right;\">\n",
       "      <th></th>\n",
       "      <th>age</th>\n",
       "      <th>home_owner</th>\n",
       "      <th>income</th>\n",
       "      <th>years_employed</th>\n",
       "      <th>current_address_year</th>\n",
       "      <th>pay_schedule_bi-weekly</th>\n",
       "      <th>pay_schedule_semi-monthly</th>\n",
       "      <th>pay_schedule_weekly</th>\n",
       "      <th>has_debt</th>\n",
       "      <th>amount_requested</th>\n",
       "      <th>risk_score</th>\n",
       "      <th>personal_account_months</th>\n",
       "      <th>risk_score_2</th>\n",
       "      <th>risk_score_3</th>\n",
       "      <th>risk_score_4</th>\n",
       "      <th>risk_score_5</th>\n",
       "      <th>ext_quality_score</th>\n",
       "      <th>ext_quality_score_2</th>\n",
       "      <th>inquiries_last_month</th>\n",
       "    </tr>\n",
       "  </thead>\n",
       "  <tbody>\n",
       "    <tr>\n",
       "      <th>0</th>\n",
       "      <td>40</td>\n",
       "      <td>1</td>\n",
       "      <td>3135</td>\n",
       "      <td>3</td>\n",
       "      <td>3</td>\n",
       "      <td>1</td>\n",
       "      <td>0</td>\n",
       "      <td>0</td>\n",
       "      <td>1</td>\n",
       "      <td>550</td>\n",
       "      <td>36200</td>\n",
       "      <td>30</td>\n",
       "      <td>0.737398</td>\n",
       "      <td>0.903517</td>\n",
       "      <td>0.487712</td>\n",
       "      <td>0.515977</td>\n",
       "      <td>0.580918</td>\n",
       "      <td>0.380918</td>\n",
       "      <td>10</td>\n",
       "    </tr>\n",
       "    <tr>\n",
       "      <th>1</th>\n",
       "      <td>61</td>\n",
       "      <td>0</td>\n",
       "      <td>3180</td>\n",
       "      <td>6</td>\n",
       "      <td>3</td>\n",
       "      <td>0</td>\n",
       "      <td>0</td>\n",
       "      <td>1</td>\n",
       "      <td>1</td>\n",
       "      <td>600</td>\n",
       "      <td>30150</td>\n",
       "      <td>86</td>\n",
       "      <td>0.738510</td>\n",
       "      <td>0.881027</td>\n",
       "      <td>0.713423</td>\n",
       "      <td>0.826402</td>\n",
       "      <td>0.730720</td>\n",
       "      <td>0.630720</td>\n",
       "      <td>9</td>\n",
       "    </tr>\n",
       "    <tr>\n",
       "      <th>2</th>\n",
       "      <td>23</td>\n",
       "      <td>0</td>\n",
       "      <td>1540</td>\n",
       "      <td>0</td>\n",
       "      <td>0</td>\n",
       "      <td>0</td>\n",
       "      <td>0</td>\n",
       "      <td>1</td>\n",
       "      <td>1</td>\n",
       "      <td>450</td>\n",
       "      <td>34550</td>\n",
       "      <td>19</td>\n",
       "      <td>0.642993</td>\n",
       "      <td>0.766554</td>\n",
       "      <td>0.595018</td>\n",
       "      <td>0.762284</td>\n",
       "      <td>0.531712</td>\n",
       "      <td>0.531712</td>\n",
       "      <td>7</td>\n",
       "    </tr>\n",
       "    <tr>\n",
       "      <th>3</th>\n",
       "      <td>40</td>\n",
       "      <td>0</td>\n",
       "      <td>5230</td>\n",
       "      <td>6</td>\n",
       "      <td>1</td>\n",
       "      <td>1</td>\n",
       "      <td>0</td>\n",
       "      <td>0</td>\n",
       "      <td>1</td>\n",
       "      <td>700</td>\n",
       "      <td>42150</td>\n",
       "      <td>86</td>\n",
       "      <td>0.665224</td>\n",
       "      <td>0.960832</td>\n",
       "      <td>0.767828</td>\n",
       "      <td>0.778831</td>\n",
       "      <td>0.792552</td>\n",
       "      <td>0.592552</td>\n",
       "      <td>8</td>\n",
       "    </tr>\n",
       "    <tr>\n",
       "      <th>4</th>\n",
       "      <td>33</td>\n",
       "      <td>0</td>\n",
       "      <td>3590</td>\n",
       "      <td>5</td>\n",
       "      <td>2</td>\n",
       "      <td>0</td>\n",
       "      <td>1</td>\n",
       "      <td>0</td>\n",
       "      <td>1</td>\n",
       "      <td>1100</td>\n",
       "      <td>53850</td>\n",
       "      <td>98</td>\n",
       "      <td>0.617361</td>\n",
       "      <td>0.857560</td>\n",
       "      <td>0.613487</td>\n",
       "      <td>0.665523</td>\n",
       "      <td>0.744634</td>\n",
       "      <td>0.744634</td>\n",
       "      <td>12</td>\n",
       "    </tr>\n",
       "  </tbody>\n",
       "</table>\n",
       "</div>"
      ],
      "text/plain": [
       "   age  home_owner  income  years_employed  current_address_year  \\\n",
       "0   40           1    3135               3                     3   \n",
       "1   61           0    3180               6                     3   \n",
       "2   23           0    1540               0                     0   \n",
       "3   40           0    5230               6                     1   \n",
       "4   33           0    3590               5                     2   \n",
       "\n",
       "   pay_schedule_bi-weekly  pay_schedule_semi-monthly  pay_schedule_weekly  \\\n",
       "0                       1                          0                    0   \n",
       "1                       0                          0                    1   \n",
       "2                       0                          0                    1   \n",
       "3                       1                          0                    0   \n",
       "4                       0                          1                    0   \n",
       "\n",
       "   has_debt  amount_requested  risk_score  personal_account_months  \\\n",
       "0         1               550       36200                       30   \n",
       "1         1               600       30150                       86   \n",
       "2         1               450       34550                       19   \n",
       "3         1               700       42150                       86   \n",
       "4         1              1100       53850                       98   \n",
       "\n",
       "   risk_score_2  risk_score_3  risk_score_4  risk_score_5  ext_quality_score  \\\n",
       "0      0.737398      0.903517      0.487712      0.515977           0.580918   \n",
       "1      0.738510      0.881027      0.713423      0.826402           0.730720   \n",
       "2      0.642993      0.766554      0.595018      0.762284           0.531712   \n",
       "3      0.665224      0.960832      0.767828      0.778831           0.792552   \n",
       "4      0.617361      0.857560      0.613487      0.665523           0.744634   \n",
       "\n",
       "   ext_quality_score_2  inquiries_last_month  \n",
       "0             0.380918                    10  \n",
       "1             0.630720                     9  \n",
       "2             0.531712                     7  \n",
       "3             0.592552                     8  \n",
       "4             0.744634                    12  "
      ]
     },
     "execution_count": 21,
     "metadata": {},
     "output_type": "execute_result"
    }
   ],
   "source": [
    "dependent_var = dataset_feature['e_signed']\n",
    "users = dataset_feature['entry_id']\n",
    "\n",
    "dataset_forSplit = dataset_feature.drop(columns= ['e_signed','entry_id'])\n",
    "dataset_forSplit.head()"
   ]
  },
  {
   "cell_type": "code",
   "execution_count": 22,
   "metadata": {},
   "outputs": [],
   "source": [
    "X_train, X_test, y_train, y_test = train_test_split (dataset_forSplit, dependent_var, test_size=0.2, random_state=0)"
   ]
  },
  {
   "cell_type": "markdown",
   "metadata": {},
   "source": [
    "<h2>Model Training Function<h2>"
   ]
  },
  {
   "cell_type": "code",
   "execution_count": 23,
   "metadata": {},
   "outputs": [],
   "source": [
    "#model evaluation\n",
    "from sklearn import metrics\n",
    "\n",
    "def model_train(model, model_name, X_train, y_train, X_test, y_test):\n",
    "    model.fit(X_train, y_train)\n",
    "\n",
    "    y_pred = model.predict(X_test)\n",
    "    y_pred_prob = model.predict_proba(X_test)[:, 1]\n",
    "    test_result = pd.DataFrame(data={'y_act':y_test, 'y_pred':y_pred, 'y_pred_prob':y_pred_prob})\n",
    "\n",
    "    accuracy = metrics.accuracy_score(test_result['y_act'], test_result['y_pred']) \n",
    "    precision = metrics.precision_score(test_result['y_act'], test_result['y_pred'], average='binary', pos_label=1)\n",
    "    f1_score = metrics.f1_score(test_result['y_act'], test_result['y_pred'], average='weighted')  #weighted accounts for label imbalance.\n",
    "    roc_auc = metrics.roc_auc_score(test_result['y_act'], test_result['y_pred_prob'])\n",
    "\n",
    "    return ({'model_name':model_name, \n",
    "                   'model':model, \n",
    "                   'accuracy':accuracy, \n",
    "                   'precision':precision,\n",
    "                  'f1_score':f1_score,\n",
    "                  'roc_auc':roc_auc,\n",
    "                  })"
   ]
  },
  {
   "cell_type": "code",
   "execution_count": 37,
   "metadata": {},
   "outputs": [],
   "source": [
    "def add_results(model_obj):\n",
    "    results_df = pd.DataFrame([[model_obj['model_name'], \n",
    "                        model_obj['accuracy'],\n",
    "                        model_obj['precision'],\n",
    "                        model_obj['f1_score'],\n",
    "                        model_obj['roc_auc'] ]],\n",
    "\n",
    "                        columns = ['Model', 'Accuracy', 'Precision', 'F1 Score', 'ROC_auc']\n",
    "    )\n",
    "\n",
    "    return results_df"
   ]
  },
  {
   "cell_type": "code",
   "execution_count": 24,
   "metadata": {},
   "outputs": [],
   "source": [
    "# Classifier algorithms\n",
    "from sklearn.linear_model import LogisticRegression\n",
    "from sklearn.tree import DecisionTreeClassifier\n",
    "from sklearn.ensemble import RandomForestClassifier"
   ]
  },
  {
   "cell_type": "markdown",
   "metadata": {},
   "source": [
    "<h2> Training Models <h2>"
   ]
  },
  {
   "cell_type": "code",
   "execution_count": 25,
   "metadata": {},
   "outputs": [
    {
     "data": {
      "text/plain": [
       "{'model_name': 'Linear Regression (Lasso)',\n",
       " 'model': LogisticRegression(random_state=0),\n",
       " 'accuracy': 0.5541596873255165,\n",
       " 'precision': 0.5672490857375051,\n",
       " 'f1_score': 0.5384143666502831,\n",
       " 'roc_auc': 0.5761225145127868}"
      ]
     },
     "execution_count": 25,
     "metadata": {},
     "output_type": "execute_result"
    }
   ],
   "source": [
    "\n",
    "model0_input = LogisticRegression(random_state = 0, penalty = 'l2')\n",
    "model0 = model_train(model0_input, 'Linear Regression (Lasso)', X_train, y_train, X_test, y_test)\n",
    "model0\n"
   ]
  },
  {
   "cell_type": "code",
   "execution_count": 41,
   "metadata": {},
   "outputs": [
    {
     "data": {
      "text/html": [
       "<div>\n",
       "<style scoped>\n",
       "    .dataframe tbody tr th:only-of-type {\n",
       "        vertical-align: middle;\n",
       "    }\n",
       "\n",
       "    .dataframe tbody tr th {\n",
       "        vertical-align: top;\n",
       "    }\n",
       "\n",
       "    .dataframe thead th {\n",
       "        text-align: right;\n",
       "    }\n",
       "</style>\n",
       "<table border=\"1\" class=\"dataframe\">\n",
       "  <thead>\n",
       "    <tr style=\"text-align: right;\">\n",
       "      <th></th>\n",
       "      <th>Model</th>\n",
       "      <th>Accuracy</th>\n",
       "      <th>Precision</th>\n",
       "      <th>F1 Score</th>\n",
       "      <th>ROC_auc</th>\n",
       "    </tr>\n",
       "  </thead>\n",
       "  <tbody>\n",
       "    <tr>\n",
       "      <th>0</th>\n",
       "      <td>Linear Regression (Lasso)</td>\n",
       "      <td>0.55416</td>\n",
       "      <td>0.567249</td>\n",
       "      <td>0.538414</td>\n",
       "      <td>0.576123</td>\n",
       "    </tr>\n",
       "  </tbody>\n",
       "</table>\n",
       "</div>"
      ],
      "text/plain": [
       "                       Model  Accuracy  Precision  F1 Score   ROC_auc\n",
       "0  Linear Regression (Lasso)   0.55416   0.567249  0.538414  0.576123"
      ]
     },
     "execution_count": 41,
     "metadata": {},
     "output_type": "execute_result"
    }
   ],
   "source": [
    "#Storing Model Results\n",
    "results = add_results(model0)\n",
    "\n",
    "results"
   ]
  },
  {
   "cell_type": "code",
   "execution_count": 73,
   "metadata": {},
   "outputs": [],
   "source": [
    "# Model is taking too long to train (took 14+ mins)\n",
    "\n",
    "# from sklearn.svm import SVC\n",
    "\n",
    "# classifier = SVC(random_state = 0, kernel = 'linear', probability=True)\n",
    "# model1_input = classifier\n",
    "\n",
    "# model1 =  model_train(model1_input, 'SVM (Linear)', X_train, y_train, X_test, y_test)\n",
    "# model1 \n",
    "\n"
   ]
  },
  {
   "cell_type": "code",
   "execution_count": 35,
   "metadata": {},
   "outputs": [
    {
     "data": {
      "text/plain": [
       "{'model_name': 'Random Forest (n=100)',\n",
       " 'model': RandomForestClassifier(criterion='entropy', random_state=0),\n",
       " 'accuracy': 0.6228364042434394,\n",
       " 'precision': 0.6414909269249632,\n",
       " 'f1_score': 0.6215655122635028,\n",
       " 'roc_auc': 0.6821027046215136}"
      ]
     },
     "execution_count": 35,
     "metadata": {},
     "output_type": "execute_result"
    }
   ],
   "source": [
    "model2_input = RandomForestClassifier(random_state=0, n_estimators= 100, criterion='entropy')\n",
    "model2 = model_train(model2_input, 'Random Forest (n=100)',  X_train, y_train, X_test, y_test)\n",
    "print(model2)\n"
   ]
  },
  {
   "cell_type": "code",
   "execution_count": 51,
   "metadata": {},
   "outputs": [
    {
     "data": {
      "text/html": [
       "<div>\n",
       "<style scoped>\n",
       "    .dataframe tbody tr th:only-of-type {\n",
       "        vertical-align: middle;\n",
       "    }\n",
       "\n",
       "    .dataframe tbody tr th {\n",
       "        vertical-align: top;\n",
       "    }\n",
       "\n",
       "    .dataframe thead th {\n",
       "        text-align: right;\n",
       "    }\n",
       "</style>\n",
       "<table border=\"1\" class=\"dataframe\">\n",
       "  <thead>\n",
       "    <tr style=\"text-align: right;\">\n",
       "      <th></th>\n",
       "      <th>Model</th>\n",
       "      <th>Accuracy</th>\n",
       "      <th>Precision</th>\n",
       "      <th>F1 Score</th>\n",
       "      <th>ROC_auc</th>\n",
       "    </tr>\n",
       "  </thead>\n",
       "  <tbody>\n",
       "    <tr>\n",
       "      <th>0</th>\n",
       "      <td>Linear Regression (Lasso)</td>\n",
       "      <td>0.554160</td>\n",
       "      <td>0.567249</td>\n",
       "      <td>0.538414</td>\n",
       "      <td>0.576123</td>\n",
       "    </tr>\n",
       "    <tr>\n",
       "      <th>1</th>\n",
       "      <td>Random Forest (n=100)</td>\n",
       "      <td>0.622836</td>\n",
       "      <td>0.641491</td>\n",
       "      <td>0.621566</td>\n",
       "      <td>0.682103</td>\n",
       "    </tr>\n",
       "  </tbody>\n",
       "</table>\n",
       "</div>"
      ],
      "text/plain": [
       "                       Model  Accuracy  Precision  F1 Score   ROC_auc\n",
       "0  Linear Regression (Lasso)  0.554160   0.567249  0.538414  0.576123\n",
       "1      Random Forest (n=100)  0.622836   0.641491  0.621566  0.682103"
      ]
     },
     "execution_count": 51,
     "metadata": {},
     "output_type": "execute_result"
    }
   ],
   "source": [
    "results = results.append(add_results(model2), ignore_index=True)\n",
    "results"
   ]
  },
  {
   "cell_type": "markdown",
   "metadata": {},
   "source": [
    "<h2>Grid Search<h2>"
   ]
  },
  {
   "cell_type": "code",
   "execution_count": 44,
   "metadata": {},
   "outputs": [],
   "source": [
    "# Round 1: Method -> Grid Search\n",
    "parameters = {\"max_depth\": [3, None],\n",
    "                \"min_samples_split\": [2,5,10],\n",
    "                \"bootstrap\": [True, False], \n",
    "                \"criterion\": [\"entropy\"],\n",
    "                \"n_estimators\": [100,500]\n",
    "}\n",
    "\n",
    "# max_depth - The maximum depth of the tree.\n",
    "# min_samples_split - The minimum number of samples required to split an internal node\n",
    "# bootstrap - Whether bootstrap samples are used when building trees.\n",
    "# criterion -The function to measure the quality of a split default 'gini'\n",
    "# n_estimators - The number of trees in the forest."
   ]
  },
  {
   "cell_type": "code",
   "execution_count": 45,
   "metadata": {},
   "outputs": [
    {
     "name": "stdout",
     "output_type": "stream",
     "text": [
      "Fitting 5 folds for each of 24 candidates, totalling 120 fits\n"
     ]
    },
    {
     "data": {
      "text/plain": [
       "GridSearchCV(estimator=RandomForestClassifier(), n_jobs=2,\n",
       "             param_grid={'bootstrap': [True, False], 'criterion': ['entropy'],\n",
       "                         'max_depth': [3, None],\n",
       "                         'min_samples_split': [2, 5, 10],\n",
       "                         'n_estimators': [100, 500]},\n",
       "             pre_dispatch=2, verbose=3)"
      ]
     },
     "execution_count": 45,
     "metadata": {},
     "output_type": "execute_result"
    }
   ],
   "source": [
    "gs_model = GridSearchCV(RandomForestClassifier(), parameters, n_jobs=2, verbose=3, pre_dispatch=2)\n",
    "gs_model.fit(X_train, y_train)   "
   ]
  },
  {
   "cell_type": "markdown",
   "metadata": {},
   "source": [
    "<h3> Best Model <h3>"
   ]
  },
  {
   "cell_type": "code",
   "execution_count": 46,
   "metadata": {},
   "outputs": [
    {
     "name": "stdout",
     "output_type": "stream",
     "text": [
      "{'bootstrap': False, 'criterion': 'entropy', 'max_depth': None, 'min_samples_split': 10, 'n_estimators': 500}\n"
     ]
    }
   ],
   "source": [
    "print(gs_model.best_params_) "
   ]
  },
  {
   "cell_type": "code",
   "execution_count": 50,
   "metadata": {},
   "outputs": [
    {
     "data": {
      "text/plain": [
       "{'model_name': 'Random Forest (bootstrap=false, entropy, max_depth=none, n=500)',\n",
       " 'model': RandomForestClassifier(bootstrap=False, criterion='entropy',\n",
       "                        min_samples_split=10, n_estimators=500, random_state=0),\n",
       " 'accuracy': 0.6345616973757677,\n",
       " 'precision': 0.6488696488696488,\n",
       " 'f1_score': 0.6327077985983028,\n",
       " 'roc_auc': 0.6927386205702759}"
      ]
     },
     "execution_count": 50,
     "metadata": {},
     "output_type": "execute_result"
    }
   ],
   "source": [
    "model3_input = RandomForestClassifier(random_state=0, n_estimators= 500, criterion='entropy', max_depth=None, min_samples_split=10, bootstrap=False)\n",
    "model3 = model_train(model3_input, 'Random Forest (bootstrap=false, entropy, max_depth=none, n=500)',  X_train, y_train, X_test, y_test)\n",
    "model3"
   ]
  },
  {
   "cell_type": "code",
   "execution_count": 52,
   "metadata": {},
   "outputs": [
    {
     "data": {
      "text/html": [
       "<div>\n",
       "<style scoped>\n",
       "    .dataframe tbody tr th:only-of-type {\n",
       "        vertical-align: middle;\n",
       "    }\n",
       "\n",
       "    .dataframe tbody tr th {\n",
       "        vertical-align: top;\n",
       "    }\n",
       "\n",
       "    .dataframe thead th {\n",
       "        text-align: right;\n",
       "    }\n",
       "</style>\n",
       "<table border=\"1\" class=\"dataframe\">\n",
       "  <thead>\n",
       "    <tr style=\"text-align: right;\">\n",
       "      <th></th>\n",
       "      <th>Model</th>\n",
       "      <th>Accuracy</th>\n",
       "      <th>Precision</th>\n",
       "      <th>F1 Score</th>\n",
       "      <th>ROC_auc</th>\n",
       "    </tr>\n",
       "  </thead>\n",
       "  <tbody>\n",
       "    <tr>\n",
       "      <th>0</th>\n",
       "      <td>Linear Regression (Lasso)</td>\n",
       "      <td>0.554160</td>\n",
       "      <td>0.567249</td>\n",
       "      <td>0.538414</td>\n",
       "      <td>0.576123</td>\n",
       "    </tr>\n",
       "    <tr>\n",
       "      <th>1</th>\n",
       "      <td>Random Forest (n=100)</td>\n",
       "      <td>0.622836</td>\n",
       "      <td>0.641491</td>\n",
       "      <td>0.621566</td>\n",
       "      <td>0.682103</td>\n",
       "    </tr>\n",
       "    <tr>\n",
       "      <th>2</th>\n",
       "      <td>Random Forest (bootstrap=false, entropy, max_d...</td>\n",
       "      <td>0.634562</td>\n",
       "      <td>0.648870</td>\n",
       "      <td>0.632708</td>\n",
       "      <td>0.692739</td>\n",
       "    </tr>\n",
       "  </tbody>\n",
       "</table>\n",
       "</div>"
      ],
      "text/plain": [
       "                                               Model  Accuracy  Precision  \\\n",
       "0                          Linear Regression (Lasso)  0.554160   0.567249   \n",
       "1                              Random Forest (n=100)  0.622836   0.641491   \n",
       "2  Random Forest (bootstrap=false, entropy, max_d...  0.634562   0.648870   \n",
       "\n",
       "   F1 Score   ROC_auc  \n",
       "0  0.538414  0.576123  \n",
       "1  0.621566  0.682103  \n",
       "2  0.632708  0.692739  "
      ]
     },
     "execution_count": 52,
     "metadata": {},
     "output_type": "execute_result"
    }
   ],
   "source": [
    "results = results.append(add_results(model3), ignore_index=True)\n",
    "results"
   ]
  },
  {
   "cell_type": "code",
   "execution_count": 53,
   "metadata": {},
   "outputs": [],
   "source": [
    "# Round 2: Method -> Grid Search Gini\n",
    "parameters_2 = {\"max_depth\": [3, None],\n",
    "                \"min_samples_split\": [2,5,10],\n",
    "                \"bootstrap\": [True, False], \n",
    "                \"criterion\": [\"gini\"],\n",
    "                \"n_estimators\": [400,600]\n",
    "}\n",
    "\n",
    "# max_depth - The maximum depth of the tree.\n",
    "# min_samples_split - The minimum number of samples required to split an internal node\n",
    "# bootstrap - Whether bootstrap samples are used when building trees.\n",
    "# criterion -The function to measure the quality of a split default 'gini'\n",
    "# n_estimators - The number of trees in the forest."
   ]
  },
  {
   "cell_type": "code",
   "execution_count": 54,
   "metadata": {},
   "outputs": [
    {
     "name": "stdout",
     "output_type": "stream",
     "text": [
      "Fitting 5 folds for each of 24 candidates, totalling 120 fits\n"
     ]
    },
    {
     "data": {
      "text/plain": [
       "GridSearchCV(estimator=RandomForestClassifier(), n_jobs=3,\n",
       "             param_grid={'bootstrap': [True, False], 'criterion': ['gini'],\n",
       "                         'max_depth': [3, None],\n",
       "                         'min_samples_split': [2, 5, 10],\n",
       "                         'n_estimators': [400, 600]},\n",
       "             pre_dispatch=2, verbose=3)"
      ]
     },
     "execution_count": 54,
     "metadata": {},
     "output_type": "execute_result"
    }
   ],
   "source": [
    "gs_model_2 = GridSearchCV(RandomForestClassifier(), parameters_2, n_jobs=3, verbose=3, pre_dispatch=2)\n",
    "gs_model_2.fit(X_train, y_train)   "
   ]
  },
  {
   "cell_type": "code",
   "execution_count": 56,
   "metadata": {},
   "outputs": [
    {
     "name": "stdout",
     "output_type": "stream",
     "text": [
      "{'bootstrap': False, 'criterion': 'gini', 'max_depth': None, 'min_samples_split': 10, 'n_estimators': 600}\n"
     ]
    }
   ],
   "source": [
    "print(gs_model_2.best_params_) "
   ]
  },
  {
   "cell_type": "code",
   "execution_count": 57,
   "metadata": {},
   "outputs": [
    {
     "data": {
      "text/plain": [
       "{'model_name': 'Random Forest (bootstrap=false, entropy, max_depth=none, n=500)',\n",
       " 'model': RandomForestClassifier(bootstrap=False, min_samples_split=10, n_estimators=600,\n",
       "                        random_state=0),\n",
       " 'accuracy': 0.6306532663316583,\n",
       " 'precision': 0.6442536957558417,\n",
       " 'f1_score': 0.6284646607972338,\n",
       " 'roc_auc': 0.692434911969976}"
      ]
     },
     "execution_count": 57,
     "metadata": {},
     "output_type": "execute_result"
    }
   ],
   "source": [
    "model4_input = RandomForestClassifier(random_state=0, n_estimators= 600, criterion='gini', max_depth=None, min_samples_split=10, bootstrap=False)\n",
    "model4 = model_train(model4_input, 'Random Forest (bootstrap=false, entropy, max_depth=none, n=500)',  X_train, y_train, X_test, y_test)\n",
    "model4"
   ]
  },
  {
   "cell_type": "code",
   "execution_count": 58,
   "metadata": {},
   "outputs": [
    {
     "data": {
      "text/html": [
       "<div>\n",
       "<style scoped>\n",
       "    .dataframe tbody tr th:only-of-type {\n",
       "        vertical-align: middle;\n",
       "    }\n",
       "\n",
       "    .dataframe tbody tr th {\n",
       "        vertical-align: top;\n",
       "    }\n",
       "\n",
       "    .dataframe thead th {\n",
       "        text-align: right;\n",
       "    }\n",
       "</style>\n",
       "<table border=\"1\" class=\"dataframe\">\n",
       "  <thead>\n",
       "    <tr style=\"text-align: right;\">\n",
       "      <th></th>\n",
       "      <th>Model</th>\n",
       "      <th>Accuracy</th>\n",
       "      <th>Precision</th>\n",
       "      <th>F1 Score</th>\n",
       "      <th>ROC_auc</th>\n",
       "    </tr>\n",
       "  </thead>\n",
       "  <tbody>\n",
       "    <tr>\n",
       "      <th>0</th>\n",
       "      <td>Linear Regression (Lasso)</td>\n",
       "      <td>0.554160</td>\n",
       "      <td>0.567249</td>\n",
       "      <td>0.538414</td>\n",
       "      <td>0.576123</td>\n",
       "    </tr>\n",
       "    <tr>\n",
       "      <th>1</th>\n",
       "      <td>Random Forest (n=100)</td>\n",
       "      <td>0.622836</td>\n",
       "      <td>0.641491</td>\n",
       "      <td>0.621566</td>\n",
       "      <td>0.682103</td>\n",
       "    </tr>\n",
       "    <tr>\n",
       "      <th>2</th>\n",
       "      <td>Random Forest (bootstrap=false, entropy, max_d...</td>\n",
       "      <td>0.634562</td>\n",
       "      <td>0.648870</td>\n",
       "      <td>0.632708</td>\n",
       "      <td>0.692739</td>\n",
       "    </tr>\n",
       "    <tr>\n",
       "      <th>3</th>\n",
       "      <td>Random Forest (bootstrap=false, entropy, max_d...</td>\n",
       "      <td>0.630653</td>\n",
       "      <td>0.644254</td>\n",
       "      <td>0.628465</td>\n",
       "      <td>0.692435</td>\n",
       "    </tr>\n",
       "  </tbody>\n",
       "</table>\n",
       "</div>"
      ],
      "text/plain": [
       "                                               Model  Accuracy  Precision  \\\n",
       "0                          Linear Regression (Lasso)  0.554160   0.567249   \n",
       "1                              Random Forest (n=100)  0.622836   0.641491   \n",
       "2  Random Forest (bootstrap=false, entropy, max_d...  0.634562   0.648870   \n",
       "3  Random Forest (bootstrap=false, entropy, max_d...  0.630653   0.644254   \n",
       "\n",
       "   F1 Score   ROC_auc  \n",
       "0  0.538414  0.576123  \n",
       "1  0.621566  0.682103  \n",
       "2  0.632708  0.692739  \n",
       "3  0.628465  0.692435  "
      ]
     },
     "execution_count": 58,
     "metadata": {},
     "output_type": "execute_result"
    }
   ],
   "source": [
    "results = results.append(add_results(model4), ignore_index=True)\n",
    "results"
   ]
  },
  {
   "cell_type": "markdown",
   "metadata": {},
   "source": [
    "<h2>Best Model Selection <h3>(Random Forest model with Entropy) "
   ]
  },
  {
   "cell_type": "code",
   "execution_count": 112,
   "metadata": {},
   "outputs": [],
   "source": [
    "final_model = model3['model']"
   ]
  },
  {
   "cell_type": "markdown",
   "metadata": {},
   "source": [
    "<h2> Saving best Model "
   ]
  },
  {
   "cell_type": "code",
   "execution_count": 113,
   "metadata": {},
   "outputs": [],
   "source": [
    "import joblib\n",
    "\n",
    "save_file = 'model_rf_entropy.joblib'\n",
    "joblib.dump(final_model, open(save_file, 'wb'))"
   ]
  },
  {
   "cell_type": "markdown",
   "metadata": {},
   "source": [
    "<h2> Importing Model"
   ]
  },
  {
   "cell_type": "code",
   "execution_count": 114,
   "metadata": {},
   "outputs": [
    {
     "data": {
      "text/plain": [
       "RandomForestClassifier(bootstrap=False, criterion='entropy',\n",
       "                       min_samples_split=10, n_estimators=500, random_state=0)"
      ]
     },
     "execution_count": 114,
     "metadata": {},
     "output_type": "execute_result"
    }
   ],
   "source": [
    "# loading from file\n",
    "save_file = 'model_rf_entropy.joblib'\n",
    "model_imported = joblib.load(save_file)\n",
    "model_imported"
   ]
  },
  {
   "cell_type": "markdown",
   "metadata": {},
   "source": [
    "<h2> Data pre-processing function"
   ]
  },
  {
   "cell_type": "code",
   "execution_count": 97,
   "metadata": {},
   "outputs": [],
   "source": [
    "def pre_processing(data):\n",
    "    dataset_output = data.drop(columns = ['months_employed'])\n",
    "    dataset_output['personal_account_months'] = ((dataset_output.personal_account_y * 12) + dataset_output.personal_account_m)\n",
    "    dataset_output = dataset_output.drop(columns = ['personal_account_y', 'personal_account_m'])\n",
    "\n",
    "    #Adding One-hot encoding related columns\n",
    "    dataset_output[['pay_schedule_monthly', 'pay_schedule_bi-weekly', 'pay_schedule_semi-monthly', 'pay_schedule_weekly']] = 0\n",
    "\n",
    "    #One hot encoding considering the pay_schedule column\n",
    "    if (dataset_output['pay_schedule'].str.contains('bi-weekly').any):\n",
    "        dataset_output['pay_schedule_bi-weekly'] = 1\n",
    "    elif (dataset_output['pay_schedule'].str.contains('semi-monthly').any):\n",
    "        dataset_output['pay_schedule_semi-monthly'] = 1\n",
    "    elif (dataset_output['pay_schedule'].str.contains('weekly').any):\n",
    "        dataset_output['pay_schedule_weekly'] = 1\n",
    "    elif (dataset_output['pay_schedule'].str.contains('monthly').any):\n",
    "        dataset_output['pay_schedule_monthly'] = 1\n",
    "\n",
    "    # print(dataset_output)\n",
    "    dataset_output = dataset_output.drop(columns = ['pay_schedule_monthly'])\n",
    "\n",
    "    dataset_output = dataset_output[[ 'age', 'home_owner', 'income', 'years_employed',\n",
    "       'current_address_year', 'pay_schedule_bi-weekly',\n",
    "       'pay_schedule_semi-monthly', 'pay_schedule_weekly', \n",
    "       'has_debt', 'amount_requested', 'risk_score', 'personal_account_months',\n",
    "       'risk_score_2', 'risk_score_3', 'risk_score_4', 'risk_score_5',\n",
    "       'ext_quality_score', 'ext_quality_score_2', 'inquiries_last_month'\n",
    "       ]]\n",
    "\n",
    "    return dataset_output\n"
   ]
  },
  {
   "cell_type": "code",
   "execution_count": 102,
   "metadata": {},
   "outputs": [],
   "source": [
    "def score(input_data, model):\n",
    "    return model.predict(input_data)"
   ]
  },
  {
   "cell_type": "markdown",
   "metadata": {},
   "source": [
    "<h2> Predicting for a random value taken from the original dataset"
   ]
  },
  {
   "cell_type": "code",
   "execution_count": 126,
   "metadata": {},
   "outputs": [
    {
     "data": {
      "text/html": [
       "<div>\n",
       "<style scoped>\n",
       "    .dataframe tbody tr th:only-of-type {\n",
       "        vertical-align: middle;\n",
       "    }\n",
       "\n",
       "    .dataframe tbody tr th {\n",
       "        vertical-align: top;\n",
       "    }\n",
       "\n",
       "    .dataframe thead th {\n",
       "        text-align: right;\n",
       "    }\n",
       "</style>\n",
       "<table border=\"1\" class=\"dataframe\">\n",
       "  <thead>\n",
       "    <tr style=\"text-align: right;\">\n",
       "      <th></th>\n",
       "      <th>age</th>\n",
       "      <th>home_owner</th>\n",
       "      <th>income</th>\n",
       "      <th>years_employed</th>\n",
       "      <th>current_address_year</th>\n",
       "      <th>pay_schedule_bi-weekly</th>\n",
       "      <th>pay_schedule_semi-monthly</th>\n",
       "      <th>pay_schedule_weekly</th>\n",
       "      <th>has_debt</th>\n",
       "      <th>amount_requested</th>\n",
       "      <th>...</th>\n",
       "      <th>personal_account_months</th>\n",
       "      <th>risk_score_2</th>\n",
       "      <th>risk_score_3</th>\n",
       "      <th>risk_score_4</th>\n",
       "      <th>risk_score_5</th>\n",
       "      <th>ext_quality_score</th>\n",
       "      <th>ext_quality_score_2</th>\n",
       "      <th>inquiries_last_month</th>\n",
       "      <th>y_actual</th>\n",
       "      <th>predictions</th>\n",
       "    </tr>\n",
       "  </thead>\n",
       "  <tbody>\n",
       "    <tr>\n",
       "      <th>4020</th>\n",
       "      <td>46</td>\n",
       "      <td>0</td>\n",
       "      <td>7650</td>\n",
       "      <td>3</td>\n",
       "      <td>0</td>\n",
       "      <td>1</td>\n",
       "      <td>0</td>\n",
       "      <td>0</td>\n",
       "      <td>1</td>\n",
       "      <td>3000</td>\n",
       "      <td>...</td>\n",
       "      <td>37</td>\n",
       "      <td>0.753385</td>\n",
       "      <td>0.946142</td>\n",
       "      <td>0.787369</td>\n",
       "      <td>0.809348</td>\n",
       "      <td>0.75439</td>\n",
       "      <td>0.55439</td>\n",
       "      <td>3</td>\n",
       "      <td>1</td>\n",
       "      <td>1</td>\n",
       "    </tr>\n",
       "  </tbody>\n",
       "</table>\n",
       "<p>1 rows × 21 columns</p>\n",
       "</div>"
      ],
      "text/plain": [
       "      age  home_owner  income  years_employed  current_address_year  \\\n",
       "4020   46           0    7650               3                     0   \n",
       "\n",
       "      pay_schedule_bi-weekly  pay_schedule_semi-monthly  pay_schedule_weekly  \\\n",
       "4020                       1                          0                    0   \n",
       "\n",
       "      has_debt  amount_requested  ...  personal_account_months  risk_score_2  \\\n",
       "4020         1              3000  ...                       37      0.753385   \n",
       "\n",
       "      risk_score_3  risk_score_4  risk_score_5  ext_quality_score  \\\n",
       "4020      0.946142      0.787369      0.809348            0.75439   \n",
       "\n",
       "      ext_quality_score_2  inquiries_last_month  y_actual  predictions  \n",
       "4020              0.55439                     3         1            1  \n",
       "\n",
       "[1 rows x 21 columns]"
      ]
     },
     "execution_count": 126,
     "metadata": {},
     "output_type": "execute_result"
    }
   ],
   "source": [
    "dataset_sample_test = dataset.sample(1)\n",
    "dataset_sample_test_y = dataset_sample_test['e_signed']\n",
    "dataset_sample_test = dataset_sample_test.drop(columns= ['e_signed','entry_id'])\n",
    "dataset_sample_test = pre_processing(dataset_sample_test)\n",
    "\n",
    "dataset_sample_prediction = score(dataset_sample_test, model_imported)\n",
    "# print(dataset_sample_prediction[0])\n",
    "\n",
    "final_results = dataset_sample_test\n",
    "final_results['y_actual'] = dataset_sample_test_y\n",
    "final_results['predictions'] = dataset_sample_prediction[0]\n",
    "\n",
    "final_results"
   ]
  },
  {
   "cell_type": "markdown",
   "metadata": {},
   "source": [
    "<h2> Predicting Function"
   ]
  },
  {
   "cell_type": "code",
   "execution_count": 127,
   "metadata": {},
   "outputs": [],
   "source": [
    "def app_prediction_function(input_data, model):\n",
    "    app_prediction_input = pre_processing(input_data)\n",
    "    app_prediction_result = score(app_prediction_input, model)\n",
    "\n",
    "    return app_prediction_result[0]\n"
   ]
  },
  {
   "cell_type": "code",
   "execution_count": 130,
   "metadata": {},
   "outputs": [
    {
     "data": {
      "text/html": [
       "<div>\n",
       "<style scoped>\n",
       "    .dataframe tbody tr th:only-of-type {\n",
       "        vertical-align: middle;\n",
       "    }\n",
       "\n",
       "    .dataframe tbody tr th {\n",
       "        vertical-align: top;\n",
       "    }\n",
       "\n",
       "    .dataframe thead th {\n",
       "        text-align: right;\n",
       "    }\n",
       "</style>\n",
       "<table border=\"1\" class=\"dataframe\">\n",
       "  <thead>\n",
       "    <tr style=\"text-align: right;\">\n",
       "      <th></th>\n",
       "      <th>entry_id</th>\n",
       "      <th>age</th>\n",
       "      <th>pay_schedule</th>\n",
       "      <th>home_owner</th>\n",
       "      <th>income</th>\n",
       "      <th>months_employed</th>\n",
       "      <th>years_employed</th>\n",
       "      <th>current_address_year</th>\n",
       "      <th>personal_account_m</th>\n",
       "      <th>personal_account_y</th>\n",
       "      <th>...</th>\n",
       "      <th>amount_requested</th>\n",
       "      <th>risk_score</th>\n",
       "      <th>risk_score_2</th>\n",
       "      <th>risk_score_3</th>\n",
       "      <th>risk_score_4</th>\n",
       "      <th>risk_score_5</th>\n",
       "      <th>ext_quality_score</th>\n",
       "      <th>ext_quality_score_2</th>\n",
       "      <th>inquiries_last_month</th>\n",
       "      <th>e_signed</th>\n",
       "    </tr>\n",
       "  </thead>\n",
       "  <tbody>\n",
       "    <tr>\n",
       "      <th>16736</th>\n",
       "      <td>5175099</td>\n",
       "      <td>30</td>\n",
       "      <td>weekly</td>\n",
       "      <td>0</td>\n",
       "      <td>2635</td>\n",
       "      <td>0</td>\n",
       "      <td>6</td>\n",
       "      <td>2</td>\n",
       "      <td>2</td>\n",
       "      <td>4</td>\n",
       "      <td>...</td>\n",
       "      <td>600</td>\n",
       "      <td>43400</td>\n",
       "      <td>0.591171</td>\n",
       "      <td>0.878906</td>\n",
       "      <td>0.478158</td>\n",
       "      <td>0.743593</td>\n",
       "      <td>0.46682</td>\n",
       "      <td>0.36682</td>\n",
       "      <td>7</td>\n",
       "      <td>1</td>\n",
       "    </tr>\n",
       "  </tbody>\n",
       "</table>\n",
       "<p>1 rows × 21 columns</p>\n",
       "</div>"
      ],
      "text/plain": [
       "       entry_id  age pay_schedule  home_owner  income  months_employed  \\\n",
       "16736   5175099   30       weekly           0    2635                0   \n",
       "\n",
       "       years_employed  current_address_year  personal_account_m  \\\n",
       "16736               6                     2                   2   \n",
       "\n",
       "       personal_account_y  ...  amount_requested  risk_score  risk_score_2  \\\n",
       "16736                   4  ...               600       43400      0.591171   \n",
       "\n",
       "       risk_score_3  risk_score_4  risk_score_5  ext_quality_score  \\\n",
       "16736      0.878906      0.478158      0.743593            0.46682   \n",
       "\n",
       "       ext_quality_score_2  inquiries_last_month  e_signed  \n",
       "16736              0.36682                     7         1  \n",
       "\n",
       "[1 rows x 21 columns]"
      ]
     },
     "execution_count": 130,
     "metadata": {},
     "output_type": "execute_result"
    }
   ],
   "source": [
    "dataset.sample(1)"
   ]
  },
  {
   "cell_type": "markdown",
   "metadata": {},
   "source": [
    "<h1> Get Predictions"
   ]
  },
  {
   "cell_type": "code",
   "execution_count": 144,
   "metadata": {},
   "outputs": [
    {
     "data": {
      "text/plain": [
       "0"
      ]
     },
     "execution_count": 144,
     "metadata": {},
     "output_type": "execute_result"
    }
   ],
   "source": [
    "data_values = [[46,'bi-weekly', 1, 5100, \n",
    "                0,  1, 5,\n",
    "                2, 1, 0, \n",
    "                2000, 43400, 0.591171, 0.878906,\n",
    "                0.478158, 0.743593, 0.46682,\n",
    "                0.36682, 2]]\n",
    "\n",
    "data_columns = ['age', 'pay_schedule', 'home_owner', 'income',\n",
    "       'months_employed', 'years_employed', 'current_address_year',\n",
    "       'personal_account_m', 'personal_account_y', 'has_debt',\n",
    "       'amount_requested', 'risk_score', 'risk_score_2', 'risk_score_3',\n",
    "       'risk_score_4', 'risk_score_5', 'ext_quality_score',\n",
    "       'ext_quality_score_2', 'inquiries_last_month']\n",
    "\n",
    "input_data = pd.DataFrame(data_values, columns = data_columns)\n",
    "\n",
    "app_prediction_function(input_data, model_imported)\n",
    "# input_data"
   ]
  },
  {
   "cell_type": "code",
   "execution_count": null,
   "metadata": {},
   "outputs": [],
   "source": []
  }
 ],
 "metadata": {
  "interpreter": {
   "hash": "15580dc291cb5afe8d2fc6e2316ae9d42bdf96bfeb8511f6c3ade7cd1e203acd"
  },
  "kernelspec": {
   "display_name": "Python 3.8.12 64-bit ('ML_Course': conda)",
   "name": "python3"
  },
  "language_info": {
   "codemirror_mode": {
    "name": "ipython",
    "version": 3
   },
   "file_extension": ".py",
   "mimetype": "text/x-python",
   "name": "python",
   "nbconvert_exporter": "python",
   "pygments_lexer": "ipython3",
   "version": "3.8.12"
  },
  "orig_nbformat": 4
 },
 "nbformat": 4,
 "nbformat_minor": 2
}
